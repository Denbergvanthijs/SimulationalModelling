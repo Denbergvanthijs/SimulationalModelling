{
 "cells": [
  {
   "cell_type": "markdown",
   "metadata": {},
   "source": [
    "# Genereren van Pseudo-Random Getallen"
   ]
  },
  {
   "cell_type": "code",
   "execution_count": 1,
   "metadata": {},
   "outputs": [],
   "source": [
    "import random\n",
    "\n",
    "import scripts.RandomNumberGenerator as RNG\n",
    "from scipy.stats import chisquare"
   ]
  },
  {
   "cell_type": "markdown",
   "metadata": {},
   "source": [
    "Het genereren van een random seed gebaseerd op het aantal nanoseconden achter de komma:"
   ]
  },
  {
   "cell_type": "code",
   "execution_count": 2,
   "metadata": {},
   "outputs": [
    {
     "data": {
      "text/plain": [
       "17671918869018554"
      ]
     },
     "execution_count": 2,
     "metadata": {},
     "output_type": "execute_result"
    }
   ],
   "source": [
    "RNG.generate_seed()"
   ]
  },
  {
   "cell_type": "markdown",
   "metadata": {},
   "source": [
    "## Random Number Generator Maken\n",
    "Het genereren van Pseudo Random getallen door middel van een aangepaste versie van de midsquare: de endsquare"
   ]
  },
  {
   "cell_type": "code",
   "execution_count": 3,
   "metadata": {},
   "outputs": [
    {
     "name": "stdout",
     "output_type": "stream",
     "text": [
      "Seed: 18565082550048828, 17\n",
      "[0.09516758 0.45231947 0.21552782 ... 0.99560819 0.26255218 0.47836018]\n"
     ]
    }
   ],
   "source": [
    "data = RNG.generator_endsquare(samples=10_000, seed=RNG.generate_seed())\n",
    "print(data)"
   ]
  },
  {
   "cell_type": "markdown",
   "metadata": {},
   "source": [
    "## Hypotheses opstellen\n",
    "\n",
    "> H0: De RNG is niet willekeurig  \n",
    "> H1: De RNG is willekeurig  \n",
    "> $\\alpha$: 0.05\n",
    "\n",
    "## Random Number Generator Testen\n",
    "\n",
    "### Test 1: visueel vergelijken met ingebouwde RNG Python\n",
    "Het genereren van de distributie van de eigen Pseudo Random Number Generator. Tevens worden een zelfde hoeveelheid getallen doormiddel van de ingebouwde `random.uniform(0, 1)` functie getekend ter vergelijking.\n",
    "\n",
    "Op het eerste oog lijkt de verdeling relatief uniform en zijn alle 10.000 waardes uniek. De verdeling lijkt erg op de verdeling van Python zelf, dit is veelbelovend. Echter is een visuele vergelijking niet genoeg om te bewijzen dat de verdeling uniform is."
   ]
  },
  {
   "cell_type": "code",
   "execution_count": 4,
   "metadata": {},
   "outputs": [
    {
     "name": "stdout",
     "output_type": "stream",
     "text": [
      "Seed: 1677381992340088, 16\n"
     ]
    },
    {
     "data": {
      "image/png": "[encoded data removed]",
      "text/plain": [
       "<Figure size 432x288 with 1 Axes>"
      ]
     },
     "metadata": {},
     "output_type": "display_data"
    }
   ],
   "source": [
    "RNG.plot_distribution(samples=10_000)"
   ]
  },
  {
   "cell_type": "markdown",
   "metadata": {},
   "source": [
    "## Test 2: Chi$^2$ toets\n",
    "De Chi$^2$ toets wordt uitgevoerd op de zojuist gegenereerde data en op data gegenereerd met Python's eigen `random.unifom(0,1)`-functie. Te zien is dat beiden een P-waarde van 1 hebben. Van beiden sets valt _met aan zekerheid grenzende waarschijnlijkheid_ te zeggen dat ze uniform verdeeld zijn volgens de Chi$^2$ toets. Een P van 1 is immers meer dan 1 - $\\alpha$. De grenswaarde is overschreden."
   ]
  },
  {
   "cell_type": "code",
   "execution_count": 5,
   "metadata": {},
   "outputs": [
    {
     "data": {
      "text/plain": [
       "Power_divergenceResult(statistic=1671.6379332912843, pvalue=1.0)"
      ]
     },
     "execution_count": 5,
     "metadata": {},
     "output_type": "execute_result"
    }
   ],
   "source": [
    "chisquare(data)"
   ]
  },
  {
   "cell_type": "code",
   "execution_count": 6,
   "metadata": {},
   "outputs": [
    {
     "data": {
      "text/plain": [
       "Power_divergenceResult(statistic=1641.032608220828, pvalue=1.0)"
      ]
     },
     "execution_count": 6,
     "metadata": {},
     "output_type": "execute_result"
    }
   ],
   "source": [
    "baseline = []\n",
    "for i in range(10_000):\n",
    "    baseline.append(random.uniform(0,1))\n",
    "chisquare(baseline)"
   ]
  },
  {
   "cell_type": "code",
   "execution_count": null,
   "metadata": {},
   "outputs": [],
   "source": []
  }
 ],
 "metadata": {
  "file_extension": ".py",
  "kernelspec": {
   "display_name": "Python 3",
   "language": "python",
   "name": "python3"
  },
  "language_info": {
   "codemirror_mode": {
    "name": "ipython",
    "version": 3
   },
   "file_extension": ".py",
   "mimetype": "text/x-python",
   "name": "python",
   "nbconvert_exporter": "python",
   "pygments_lexer": "ipython3",
   "version": "3.7.3"
  },
  "mimetype": "text/x-python",
  "name": "python",
  "npconvert_exporter": "python",
  "pygments_lexer": "ipython3",
  "version": 3
 },
 "nbformat": 4,
 "nbformat_minor": 2
}
