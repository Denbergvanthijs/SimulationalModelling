{
 "cells": [
  {
   "cell_type": "markdown",
   "metadata": {},
   "source": [
    "# Genereren van Pseudo-Random Getallen"
   ]
  },
  {
   "cell_type": "code",
   "execution_count": 1,
   "metadata": {},
   "outputs": [],
   "source": [
    "import random\n",
    "\n",
    "import pandas as pd\n",
    "import scripts.RandomNumberGenerator as RNG\n",
    "from scipy.stats import chisquare"
   ]
  },
  {
   "cell_type": "markdown",
   "metadata": {},
   "source": [
    "Het genereren van een random seed gebaseerd op het aantal nanoseconden achter de komma:"
   ]
  },
  {
   "cell_type": "code",
   "execution_count": 2,
   "metadata": {},
   "outputs": [
    {
     "data": {
      "text/plain": [
       "47492527961730960"
      ]
     },
     "execution_count": 2,
     "metadata": {},
     "output_type": "execute_result"
    }
   ],
   "source": [
    "seed = RNG.generate_seed()\n",
    "seed"
   ]
  },
  {
   "cell_type": "markdown",
   "metadata": {},
   "source": [
    "## Random Number Generator Maken\n",
    "Het genereren van Pseudo Random getallen door middel van een aangepaste versie van de midsquare: de endsquare"
   ]
  },
  {
   "cell_type": "code",
   "execution_count": 3,
   "metadata": {},
   "outputs": [
    {
     "name": "stdout",
     "output_type": "stream",
     "text": [
      "Seed: 47492527961730960, 17\n",
      "[0.41658364 0.57299206 0.58219094 ... 0.91080108 0.36259129 0.61140629]\n"
     ]
    }
   ],
   "source": [
    "data = RNG.generator_endsquare(samples=10_000, seed=seed, show_seed=True)\n",
    "print(data)"
   ]
  },
  {
   "cell_type": "markdown",
   "metadata": {},
   "source": [
    "## Hypotheses opstellen\n",
    "\n",
    "> H0: De RNG is niet willekeurig  \n",
    "> H1: De RNG is willekeurig  \n",
    "> $\\alpha$: 0.05\n",
    "\n",
    "## Random Number Generator Testen\n",
    "\n",
    "### Test 1: visueel vergelijken met ingebouwde RNG Python\n",
    "Het genereren van de distributie van de eigen Pseudo Random Number Generator. Tevens worden een zelfde hoeveelheid getallen doormiddel van de ingebouwde `random.uniform(0, 1)` functie getekend ter vergelijking.\n",
    "\n",
    "Op het eerste oog lijkt de verdeling relatief uniform en zijn alle 10.000 waardes uniek. De verdeling lijkt erg op de verdeling van Python zelf, dit is veelbelovend. Echter is een visuele vergelijking niet genoeg om te bewijzen dat de verdeling uniform is."
   ]
  },
  {
   "cell_type": "code",
   "execution_count": 4,
   "metadata": {},
   "outputs": [
    {
     "data": {
      "image/png": "[encoded data removed]",
      "text/plain": [
       "<Figure size 432x288 with 1 Axes>"
      ]
     },
     "metadata": {},
     "output_type": "display_data"
    }
   ],
   "source": [
    "RNG.plot_distribution(samples=10_000, seed=seed)"
   ]
  },
  {
   "cell_type": "markdown",
   "metadata": {},
   "source": [
    "## Test 2: Chi$^2$ toets\n",
    "De Chi$^2$ toets wordt uitgevoerd op de zojuist gegenereerde data en op data gegenereerd met Python's eigen `random.unifom(0,1)`-functie. Te zien is dat beiden een P-waarde van 1 hebben. Van beiden sets valt _met aan zekerheid grenzende waarschijnlijkheid_ te zeggen dat ze uniform verdeeld zijn volgens de Chi$^2$ toets. Een P van 1 is immers meer dan 1 - $\\alpha$. De grenswaarde is overschreden."
   ]
  },
  {
   "cell_type": "code",
   "execution_count": 5,
   "metadata": {},
   "outputs": [
    {
     "data": {
      "text/plain": [
       "Power_divergenceResult(statistic=1665.5403032737931, pvalue=1.0)"
      ]
     },
     "execution_count": 5,
     "metadata": {},
     "output_type": "execute_result"
    }
   ],
   "source": [
    "chisquare(data)"
   ]
  },
  {
   "cell_type": "code",
   "execution_count": 6,
   "metadata": {},
   "outputs": [
    {
     "data": {
      "text/plain": [
       "Power_divergenceResult(statistic=1664.5769496111254, pvalue=1.0)"
      ]
     },
     "execution_count": 6,
     "metadata": {},
     "output_type": "execute_result"
    }
   ],
   "source": [
    "baseline = []\n",
    "for i in range(10_000):\n",
    "    baseline.append(random.uniform(0,1))\n",
    "chisquare(baseline)"
   ]
  },
  {
   "cell_type": "markdown",
   "metadata": {},
   "source": [
    "## Pi benaderen met Random Number Generator\n",
    "> Bron: http://www.stealthcopter.com/blog/2009/09/python-calculating-pi-using-random-numbers/\n",
    "\n",
    "Zoals bekend, is $\\pi$ de ratio tussen de diameter en de omtrek van een cirkel en tevens de ratio tussen het oppervlakte en het kwadraad van de radius van een cirkel. Voor de benadering gaan we ervan uit dat de cirkel een radius van 1 heeft. Van de cirkel gaan we slechts één hoek meten, dit maakt het genereren makkelijken. De tacktiek om $\\pi$ te berekenen zal als volgt zijn:\n",
    "\n",
    "1. Willekeurig x-coördinaat genereren tussen 0 en 1\n",
    "2. Willekeurig y-coördinaat genereren tussen 0 en 1\n",
    "3. Bereken of coördinaat binnen de cirkel valt\n",
    "4. Zo ja:  \n",
    "    x += 1\n",
    "5. Herhaal stappen 1 tot en met 4 voor $n$ aantal samples\n",
    "6. Bereken Pi: $4 * x \\div n$\n",
    "\n",
    "De formule van stap 6 komt voort uit de formule voor de oppervlakte van een cirkel: $\\pi\\cdot r^2$. Aangezien de radius in dit geval 1 is, wordt de formule voor het oppervlak van een cirkel met radius 1: $\\pi \\cdot 1^2$ oftewel $\\pi$. Aangezien wij slechts één hoek van de cirkel meten zal het resultaat met vier moeten worden vermenigvuldigd. Verder berekenen we de ratio tussen binnen of buiten de cirkel, oftewel: $\\dfrac{\\text{binnen}}{\\text{buiten}}$. De uiteindelijke formule voor $\\pi$ wordt vervolgens $4 \\cdot{\\dfrac{\\text{binnen}}{\\text{buiten}}}$"
   ]
  },
  {
   "cell_type": "code",
   "execution_count": 7,
   "metadata": {},
   "outputs": [
    {
     "name": "stdout",
     "output_type": "stream",
     "text": [
      "3.1492\n"
     ]
    }
   ],
   "source": [
    "def benader_pi(n=10_000, seed=seed):\n",
    "    x = RNG.generator_endsquare(samples=n, seed=seed)\n",
    "    y = RNG.generator_endsquare(samples=n, seed=seed + 1)  # Seed moet net anders zijn, anders twee maal dezelfde waardes\n",
    "    \n",
    "    df = pd.DataFrame({\"x\":x, \"y\":y})\n",
    "    df[\"Pythagoras\"] = (df[\"x\"] ** 2 + df[\"y\"] ** 2) ** 0.5\n",
    "    df[\"Pythagoras\"] = df[\"Pythagoras\"].astype(int)  # Afronden\n",
    "    \n",
    "    binnen = (df[\"Pythagoras\"] == 0).sum()  # Alles afgerond naar 0 valt binnen de cirkel\n",
    "    pi = 4 * binnen / n\n",
    "    \n",
    "    return pi\n",
    "\n",
    "print(benader_pi())"
   ]
  },
  {
   "cell_type": "code",
   "execution_count": null,
   "metadata": {},
   "outputs": [],
   "source": []
  }
 ],
 "metadata": {
  "file_extension": ".py",
  "kernelspec": {
   "display_name": "Python 3",
   "language": "python",
   "name": "python3"
  },
  "language_info": {
   "codemirror_mode": {
    "name": "ipython",
    "version": 3
   },
   "file_extension": ".py",
   "mimetype": "text/x-python",
   "name": "python",
   "nbconvert_exporter": "python",
   "pygments_lexer": "ipython3",
   "version": "3.7.3"
  },
  "mimetype": "text/x-python",
  "name": "python",
  "npconvert_exporter": "python",
  "pygments_lexer": "ipython3",
  "version": 3
 },
 "nbformat": 4,
 "nbformat_minor": 2
}
